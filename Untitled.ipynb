{
 "cells": [
  {
   "cell_type": "code",
   "execution_count": 1,
   "id": "161e53df-9eff-47ab-bd67-5fc9bfa53ab0",
   "metadata": {},
   "outputs": [
    {
     "data": {
      "text/plain": [
       "'\\nДалее идут строки импортов и настройки pandas\\n'"
      ]
     },
     "execution_count": 1,
     "metadata": {},
     "output_type": "execute_result"
    }
   ],
   "source": [
    "\"\"\"\n",
    "Далее идут строки импортов и настройки pandas\n",
    "\"\"\""
   ]
  },
  {
   "cell_type": "code",
   "execution_count": 2,
   "id": "d857e348-dbaf-4976-97e2-ec321ef37cff",
   "metadata": {},
   "outputs": [],
   "source": [
    "from pandas import DataFrame, set_option\n",
    "\n",
    "from utils.load import load_middleware\n",
    "from utils.my_argparse import setup_basic_config\n",
    "from utils.write import write_middleware\n",
    "\n",
    "set_option('display.max_rows', None)\n",
    "set_option('display.max_columns', None)\n",
    "set_option('display.max_colwidth', None)"
   ]
  },
  {
   "cell_type": "code",
   "execution_count": 3,
   "id": "22115698-6e10-49b1-970b-49d049c68d6d",
   "metadata": {},
   "outputs": [
    {
     "data": {
      "text/plain": [
       "'\\nДалее функция, которая выполняет задания подпункта 2\\n\\nВызовите метод info(), чтобы увидеть число пропущенных значений\\nОчистите датасет от всех заведений, у которых средний чек неизвестен или превышает 2500\\nДалее заполните оставшиеся пропуски средними значениями с помощью fillna()\\n'"
      ]
     },
     "execution_count": 3,
     "metadata": {},
     "output_type": "execute_result"
    }
   ],
   "source": [
    "\"\"\"\n",
    "Далее функция, которая выполняет задания подпункта 2\n",
    "\n",
    "Вызовите метод info(), чтобы увидеть число пропущенных значений\n",
    "Очистите датасет от всех заведений, у которых средний чек неизвестен или превышает 2500\n",
    "Далее заполните оставшиеся пропуски средними значениями с помощью fillna()\n",
    "\"\"\""
   ]
  },
  {
   "cell_type": "code",
   "execution_count": 4,
   "id": "003b8eeb-ba38-4294-8a16-eeaaa6b81287",
   "metadata": {},
   "outputs": [],
   "source": [
    "def point_two(dataset: DataFrame) -> DataFrame:\n",
    "    \"\"\"\n",
    "    :param dataset: DataFrame obj of table\n",
    "    :return:\n",
    "    \"\"\"\n",
    "\n",
    "    # Showing info about non-null values\n",
    "    # (To see missed values (43195-non-null) values)\n",
    "    print(dataset.info(show_counts=True))\n",
    "\n",
    "    # Drop rows from the DataFrame, where average_bill is null or more than 2500\n",
    "    dataset_with_filter = dataset.query(\n",
    "        'average_bill != None and average_bill <= 2500'\n",
    "    )\n",
    "\n",
    "    # fill in the remaining gaps with average values\n",
    "    return dataset_with_filter.fillna(dataset_with_filter.mean(numeric_only=True))"
   ]
  },
  {
   "cell_type": "code",
   "execution_count": 5,
   "id": "ad4bf7a0-55a3-4e45-b715-3dce5e32e4bb",
   "metadata": {},
   "outputs": [
    {
     "data": {
      "text/plain": [
       "'\\nДалее функция, которая выполняет задания подпункта 3\\n\\nКаких заведений больше - из Москвы или Санкт-Петербурга? Какие типы заведений есть в датасете?\\nСколько в датасете суммарно ресторанов и пабов? Какой у них средний чек?\\nКакая доля заведений “Кофе с собой” действительно имеет фичу кофе на вынос?\\nНайдите разницу между средним чеком всех кафе в Москве и Санкт-Петербурге.\\n'"
      ]
     },
     "execution_count": 5,
     "metadata": {},
     "output_type": "execute_result"
    }
   ],
   "source": [
    "\"\"\"\n",
    "Далее функция, которая выполняет задания подпункта 3\n",
    "\n",
    "Каких заведений больше - из Москвы или Санкт-Петербурга? Какие типы заведений есть в датасете?\n",
    "Сколько в датасете суммарно ресторанов и пабов? Какой у них средний чек?\n",
    "Какая доля заведений “Кофе с собой” действительно имеет фичу кофе на вынос?\n",
    "Найдите разницу между средним чеком всех кафе в Москве и Санкт-Петербурге.\n",
    "\"\"\""
   ]
  },
  {
   "cell_type": "code",
   "execution_count": 6,
   "id": "9e6e7376-3547-433a-b8db-33bb1a32e576",
   "metadata": {},
   "outputs": [],
   "source": [
    "def point_three(dataset: DataFrame) -> None:\n",
    "    \"\"\"\n",
    "    :param dataset: DataFrame obj of table\n",
    "    :return:\n",
    "    \"\"\"\n",
    "\n",
    "    # Showing counts of coffee shops in sbp and msk\n",
    "    format_string = 'Name: \"{}\" Count: \"{}\"'\n",
    "    cities = dataset[\"city\"].value_counts()\n",
    "    print(f'\\n{format_string.format(*max(cities.items(), key=lambda x: x[1]))}')\n",
    "\n",
    "    # Showing types of coffee shops\n",
    "    # (I'm sorting it by len because I like it)\n",
    "\n",
    "    coffee_shop_types = '\\n'.join(sorted(set(dataset[\"rubric\"].tolist()), key=lambda x: len(x)))\n",
    "    print(f'\\n{coffee_shop_types}')\n",
    "\n",
    "    keys = {'Ресторан', 'Бар, паб'}\n",
    "\n",
    "    # getting average bill\n",
    "    print(f'\\nAverage Bill: {dataset.query(f\"rubric in {tuple(keys)}\")[\"average_bill\"].mean()}')\n",
    "\n",
    "    coffee_to_go = dataset.query('rubric == \"Кофе с собой\"')\n",
    "    coffee_to_go_values = coffee_to_go.agg({'coffee_to_go': 'sum'})\n",
    "\n",
    "    # The share of \"Coffee with you\" establishments has a takeaway coffee feature Bill\n",
    "    print(f'\\nThe share of \"Coffee with you” establishments has a takeaway coffee feature: '\n",
    "          f'{coffee_to_go_values[\"coffee_to_go\"] / len(coffee_to_go)}')\n",
    "\n",
    "    msk_sbp = dataset.groupby('city').agg(\n",
    "        {\n",
    "            'average_bill': 'sum',\n",
    "            'city': 'count'\n",
    "        }\n",
    "    )\n",
    "\n",
    "    msk_average_bill = msk_sbp['average_bill']['msk'] / msk_sbp['city']['msk']\n",
    "    sbp_average_bill = msk_sbp['average_bill']['spb'] / msk_sbp['city']['spb']\n",
    "\n",
    "    print(f'\\nAverage Bill Difference between msk and spb: {msk_average_bill - sbp_average_bill}')"
   ]
  },
  {
   "cell_type": "code",
   "execution_count": 7,
   "id": "a7950c74-71af-4ead-8d11-730dabf6727e",
   "metadata": {},
   "outputs": [
    {
     "data": {
      "text/plain": [
       "'\\nДалее функция, которая выполняет задания подпункта 4\\n\\nВызовите метод describe() и напишите 2-3 своих наблюдения. Например, какая фича самая редкая?\\n'"
      ]
     },
     "execution_count": 7,
     "metadata": {},
     "output_type": "execute_result"
    }
   ],
   "source": [
    "\"\"\"\n",
    "Далее функция, которая выполняет задания подпункта 4\n",
    "\n",
    "Вызовите метод describe() и напишите 2-3 своих наблюдения. Например, какая фича самая редкая?\n",
    "\"\"\""
   ]
  },
  {
   "cell_type": "code",
   "execution_count": 8,
   "id": "0b016617-28cc-42b5-9db5-4c3c4a960411",
   "metadata": {},
   "outputs": [],
   "source": [
    "def point_four(dataset: DataFrame) -> None:\n",
    "    features_names = [\n",
    "        'coffee_to_go', 'food_delivery', 'breakfast', 'car_park', 'wi_fi', 'karaoke',\n",
    "        'payment_by_credit_card', 'summer_terrace', 'gift_certificate', 'business_lunch',\n",
    "        'view_on_ostankino_tower', 'free_delivery', 'music', 'pets', 'air_conditioning'\n",
    "    ]\n",
    "\n",
    "    rare_feature = dataset.agg({key: 'sum' for key in features_names})\n",
    "\n",
    "    format_string = 'Name: \"{}\" Occurs: \"{}\"'\n",
    "    min_feature = format_string.format(*min(rare_feature.items(), key=lambda x: x[1]))\n",
    "    max_feature = format_string.format(*max(rare_feature.items(), key=lambda x: x[1]))\n",
    "\n",
    "    print(\n",
    "        f'\\nThere is an institution whose rating is 0\\n'\n",
    "        f'Feature occurs min times is {min_feature}\\n'\n",
    "        f'Feature occurs max times is {max_feature}'\n",
    "    )\n",
    "\n",
    "    # print(f'\\n{dataset.describe(include=\"all\")}')"
   ]
  },
  {
   "cell_type": "code",
   "execution_count": 9,
   "id": "bf9b83a4-d2b3-46d2-a84e-8d711f272125",
   "metadata": {},
   "outputs": [
    {
     "data": {
      "text/plain": [
       "'\\nДалее функция, которая выполняет задания подпункта 5\\n\\nКак изменился средний чек ресторанов?\\nЧто еще можно сказать об изменениях в других столбцах? Напишите 1-2 наблюдения.\\n'"
      ]
     },
     "execution_count": 9,
     "metadata": {},
     "output_type": "execute_result"
    }
   ],
   "source": [
    "\"\"\"\n",
    "Далее функция, которая выполняет задания подпункта 5\n",
    "\n",
    "Как изменился средний чек ресторанов?\n",
    "Что еще можно сказать об изменениях в других столбцах? Напишите 1-2 наблюдения.\n",
    "\"\"\""
   ]
  },
  {
   "cell_type": "code",
   "execution_count": 10,
   "id": "438e6817-12ce-4eec-ba75-72ced507d418",
   "metadata": {},
   "outputs": [],
   "source": [
    "def point_five(dataset: DataFrame):\n",
    "    dataset = dataset.query('city == \"spb\"')\n",
    "    # creating new table\n",
    "    write_middleware('spb_datasets_eat_places.csv', dataset)\n",
    "    # write_middleware('spb_datasets_eat_places.xlsx', dataset)\n",
    "\n",
    "    print(f'\\nAverage Bill: {dataset[\"average_bill\"].mean()} (it has shrunk)')\n",
    "    print(f'\\nThere is not an institution whose have feature \"view_on_ostankino_tower\"')\n",
    "    # print(f'\\n{dataset.describe(include=\"all\")}')\n"
   ]
  },
  {
   "cell_type": "code",
   "execution_count": 11,
   "id": "b3279790-0b7b-4ff4-9d28-859d569b5cf4",
   "metadata": {},
   "outputs": [
    {
     "data": {
      "text/plain": [
       "'\\nДалее идет главвная функция, которая запускает все\\n'"
      ]
     },
     "execution_count": 11,
     "metadata": {},
     "output_type": "execute_result"
    }
   ],
   "source": [
    "\"\"\"\n",
    "Далее идет главвная функция, которая запускает все\n",
    "\"\"\""
   ]
  },
  {
   "cell_type": "code",
   "execution_count": 12,
   "id": "7ead8cb5-89b8-4d22-a578-e15c92714e87",
   "metadata": {},
   "outputs": [
    {
     "name": "stdout",
     "output_type": "stream",
     "text": [
      "Loading E:\\PythonProjects\\projects\\mlYandex\\source\\csv\\datasets_eat_places.csv\n",
      "End of data loading\n",
      "<class 'pandas.core.frame.DataFrame'>\n",
      "RangeIndex: 43195 entries, 0 to 43194\n",
      "Data columns (total 21 columns):\n",
      " #   Column                   Non-Null Count  Dtype  \n",
      "---  ------                   --------------  -----  \n",
      " 0   Unnamed: 0               43195 non-null  int64  \n",
      " 1   org_id                   43195 non-null  uint64 \n",
      " 2   city                     43195 non-null  object \n",
      " 3   average_bill             17820 non-null  float64\n",
      " 4   rating                   36438 non-null  float64\n",
      " 5   rubric                   43195 non-null  object \n",
      " 6   coffee_to_go             43195 non-null  int64  \n",
      " 7   food_delivery            43195 non-null  int64  \n",
      " 8   breakfast                43195 non-null  int64  \n",
      " 9   summer_terrace           43195 non-null  int64  \n",
      " 10  wi_fi                    43195 non-null  int64  \n",
      " 11  business_lunch           43195 non-null  int64  \n",
      " 12  payment_by_credit_card   43195 non-null  int64  \n",
      " 13  car_park                 43195 non-null  int64  \n",
      " 14  gift_certificate         43195 non-null  int64  \n",
      " 15  karaoke                  43195 non-null  int64  \n",
      " 16  free_delivery            43195 non-null  int64  \n",
      " 17  music                    43195 non-null  int64  \n",
      " 18  pets                     43195 non-null  int64  \n",
      " 19  air_conditioning         43195 non-null  int64  \n",
      " 20  view_on_ostankino_tower  43195 non-null  int64  \n",
      "dtypes: float64(2), int64(16), object(2), uint64(1)\n",
      "memory usage: 6.9+ MB\n",
      "None\n",
      "\n",
      "Name: \"msk\" Count: \"11075\"\n",
      "\n",
      "Кафе\n",
      "Кофейня\n",
      "Суши-бар\n",
      "Пиццерия\n",
      "Бар, паб\n",
      "Ресторан\n",
      "Столовая\n",
      "Спортбар\n",
      "Кальян-бар\n",
      "Кофе с собой\n",
      "Кондитерская\n",
      "Быстрое питание\n",
      "Булочная, пекарня\n",
      "Бар безалкогольных напитков\n",
      "\n",
      "Average Bill: 1099.0958408679928\n",
      "\n",
      "The share of \"Coffee with you” establishments has a takeaway coffee feature: 0.5899280575539568\n",
      "\n",
      "Average Bill Difference between msk and spb: 94.73288667248733\n",
      "\n",
      "There is an institution whose rating is 0\n",
      "Feature occurs min times is Name: \"pets\" Occurs: \"13\"\n",
      "Feature occurs max times is Name: \"wi_fi\" Occurs: \"15248\"\n",
      "Writing to E:\\PythonProjects\\projects\\mlYandex\\source\\csv\\spb_datasets_eat_places.csv\n",
      "End of data writing\n",
      "\n",
      "Average Bill: 689.5560523794314 (it has shrunk)\n",
      "\n",
      "There is not an institution whose have feature \"view_on_ostankino_tower\"\n"
     ]
    }
   ],
   "source": [
    "def main():\n",
    "    # Getting arguments from command line\n",
    "    args = setup_basic_config()\n",
    "\n",
    "    # Getting values from table\n",
    "    dataset: DataFrame = load_middleware(args.input_from)\n",
    "\n",
    "    # Point Two\n",
    "    dataset = point_two(dataset)\n",
    "\n",
    "    # Point Three\n",
    "    point_three(dataset)\n",
    "\n",
    "    # Point Four\n",
    "    point_four(dataset)\n",
    "\n",
    "    # Point Five\n",
    "    point_five(dataset)\n",
    "\n",
    "\n",
    "if __name__ == '__main__':\n",
    "    main()"
   ]
  },
  {
   "cell_type": "code",
   "execution_count": null,
   "id": "32b9aa7f-bcfd-47eb-a803-e138963f325a",
   "metadata": {},
   "outputs": [],
   "source": []
  }
 ],
 "metadata": {
  "kernelspec": {
   "display_name": "Python 3 (ipykernel)",
   "language": "python",
   "name": "python3"
  },
  "language_info": {
   "codemirror_mode": {
    "name": "ipython",
    "version": 3
   },
   "file_extension": ".py",
   "mimetype": "text/x-python",
   "name": "python",
   "nbconvert_exporter": "python",
   "pygments_lexer": "ipython3",
   "version": "3.10.0"
  }
 },
 "nbformat": 4,
 "nbformat_minor": 5
}
