{
 "cells": [
  {
   "cell_type": "markdown",
   "id": "536a30a8-cba3-425f-81c4-c97914b75485",
   "metadata": {},
   "source": [
    "Далее идут строки импортов и настройки pandas"
   ]
  },
  {
   "cell_type": "code",
   "execution_count": 2,
   "id": "d857e348-dbaf-4976-97e2-ec321ef37cff",
   "metadata": {},
   "outputs": [],
   "source": [
    "from pandas import DataFrame, set_option\n",
    "\n",
    "from utils.load import load_middleware\n",
    "from utils.my_argparse import setup_basic_config\n",
    "from utils.write import write_middleware\n",
    "\n",
    "set_option('display.max_rows', None)\n",
    "set_option('display.max_columns', None)\n",
    "set_option('display.max_colwidth', None)"
   ]
  },
  {
   "cell_type": "markdown",
   "id": "57e9416b-5b88-4cc9-b2fb-cac592f7a0f6",
   "metadata": {},
   "source": [
    "Далее функция, которая выполняет задания подпункта 2\n",
    "\n",
    "Вызовите метод info(), чтобы увидеть число пропущенных значений\n",
    "Очистите датасет от всех заведений, у которых средний чек неизвестен или превышает 2500\n",
    "Далее заполните оставшиеся пропуски средними значениями с помощью fillna()"
   ]
  },
  {
   "cell_type": "code",
   "execution_count": 3,
   "id": "003b8eeb-ba38-4294-8a16-eeaaa6b81287",
   "metadata": {},
   "outputs": [],
   "source": [
    "def point_two(dataset: DataFrame) -> DataFrame:\n",
    "    \"\"\"\n",
    "    :param dataset: DataFrame obj of table\n",
    "    :return:\n",
    "    \"\"\"\n",
    "\n",
    "    # Showing info about non-null values\n",
    "    # (To see missed values (43195-non-null) values)\n",
    "    # print(dataset.info(show_counts=True))\n",
    "\n",
    "    # Drop rows from the DataFrame, where average_bill is null or more than 2500\n",
    "    dataset_with_filter = dataset.query(\n",
    "        'average_bill != None and average_bill <= 2500'\n",
    "    )\n",
    "\n",
    "    # fill in the remaining gaps with average values\n",
    "    return dataset_with_filter.fillna(dataset_with_filter.mean(numeric_only=True))"
   ]
  },
  {
   "cell_type": "markdown",
   "id": "3be18d59-fa1f-4a4c-96d4-db34bc4b1706",
   "metadata": {},
   "source": [
    "Далее функция, которая выполняет задания подпункта 3\n",
    "\n",
    "Каких заведений больше - из Москвы или Санкт-Петербурга? Какие типы заведений есть в датасете?\n",
    "Сколько в датасете суммарно ресторанов и пабов? Какой у них средний чек?\n",
    "Какая доля заведений “Кофе с собой” действительно имеет фичу кофе на вынос?\n",
    "Найдите разницу между средним чеком всех кафе в Москве и Санкт-Петербурге."
   ]
  },
  {
   "cell_type": "code",
   "execution_count": 4,
   "id": "9e6e7376-3547-433a-b8db-33bb1a32e576",
   "metadata": {},
   "outputs": [],
   "source": [
    "def point_three(dataset: DataFrame) -> None:\n",
    "    \"\"\"\n",
    "    :param dataset: DataFrame obj of table\n",
    "    :return:\n",
    "    \"\"\"\n",
    "\n",
    "    # Showing counts of coffee shops in sbp and msk\n",
    "    format_string = 'Maximum cafes in Name: \"{}\" Count: \"{}\"'\n",
    "    cities = dataset[\"city\"].value_counts()\n",
    "    print(f'\\n{format_string.format(*max(cities.items(), key=lambda x: x[1]))}')\n",
    "\n",
    "    # Showing types of coffee shops\n",
    "    # (I'm sorting it by len because I like it)\n",
    "\n",
    "    coffee_shop_types = sorted(set(dataset[\"rubric\"].tolist()), key=lambda x: -len(x))\n",
    "\n",
    "    print('\\nTypes of cafes in msk and spb:\\n')\n",
    "    for i in range(0, len(coffee_shop_types), 3):\n",
    "        print(\"\\t\\t\".join(coffee_shop_types[i:i + 3]))\n",
    "\n",
    "    keys = {'Ресторан', 'Бар, паб'}\n",
    "\n",
    "    # getting average bill\n",
    "    print(f'\\nAverage Bill of Cafes:\\n{dataset.query(f\"rubric in {tuple(keys)}\")[\"average_bill\"].mean()}')\n",
    "\n",
    "    coffee_to_go = dataset.query('rubric == \"Кофе с собой\"')\n",
    "    coffee_to_go_percent = round(coffee_to_go['coffee_to_go'].mean(), 2)\n",
    "\n",
    "    # The share of \"Coffee with you\" establishments has a takeaway coffee feature Bill\n",
    "    print(f'\\nThe share of \"Coffee with you” establishments has a takeaway coffee feature: '\n",
    "          f'{coffee_to_go_percent} (in percents is {coffee_to_go_percent * 100}%)')\n",
    "\n",
    "    msk_sbp = dataset.groupby('city').agg(\n",
    "        {\n",
    "            'average_bill': 'sum',\n",
    "            'city': 'count'\n",
    "        }\n",
    "    )\n",
    "\n",
    "    msk_average_bill = msk_sbp['average_bill']['msk'] / msk_sbp['city']['msk']\n",
    "    sbp_average_bill = msk_sbp['average_bill']['spb'] / msk_sbp['city']['spb']\n",
    "\n",
    "    print(f'\\nAverage Bill Difference between msk and spb: {round(msk_average_bill - sbp_average_bill, 2)}')"
   ]
  },
  {
   "cell_type": "markdown",
   "id": "651b76e0-2469-4681-93d2-59a8c09993b9",
   "metadata": {},
   "source": [
    "Далее функция, которая выполняет задания подпункта 4\n",
    "\n",
    "Вызовите метод describe() и напишите 2-3 своих наблюдения. Например, какая фича самая редкая?"
   ]
  },
  {
   "cell_type": "code",
   "execution_count": 5,
   "id": "0b016617-28cc-42b5-9db5-4c3c4a960411",
   "metadata": {},
   "outputs": [],
   "source": [
    "def point_four(dataset: DataFrame) -> None:\n",
    "    features_names = [\n",
    "        'coffee_to_go', 'food_delivery', 'breakfast', 'car_park', 'wi_fi', 'karaoke',\n",
    "        'payment_by_credit_card', 'summer_terrace', 'gift_certificate', 'business_lunch',\n",
    "        'view_on_ostankino_tower', 'free_delivery', 'music', 'pets', 'air_conditioning'\n",
    "    ]\n",
    "\n",
    "    rare_feature = dataset.agg({key: 'sum' for key in features_names})\n",
    "\n",
    "    format_string = 'Name: \"{}\" Occurs: \"{}\"'\n",
    "    min_feature = format_string.format(*min(rare_feature.items(), key=lambda x: x[1]))\n",
    "    max_feature = format_string.format(*max(rare_feature.items(), key=lambda x: x[1]))\n",
    "\n",
    "    print(\n",
    "        f'\\nThere is an institution whose rating is 0\\n'\n",
    "        f'Feature occurs min times is {min_feature}\\n'\n",
    "        f'Feature occurs max times is {max_feature}\\n'\n",
    "    )\n",
    "\n",
    "    # print(f'\\n{dataset.describe(include=\"all\")}')"
   ]
  },
  {
   "cell_type": "markdown",
   "id": "d884bf5f-ef76-4cb3-ad86-c38cb6d2af58",
   "metadata": {},
   "source": [
    "Далее функция, которая выполняет задания подпункта 5\n",
    "\n",
    "Как изменился средний чек ресторанов?\n",
    "Что еще можно сказать об изменениях в других столбцах? Напишите 1-2 наблюдения."
   ]
  },
  {
   "cell_type": "code",
   "execution_count": 6,
   "id": "438e6817-12ce-4eec-ba75-72ced507d418",
   "metadata": {},
   "outputs": [],
   "source": [
    "def point_five(dataset: DataFrame):\n",
    "    dataset = dataset.query('city == \"spb\"')\n",
    "    # creating new table\n",
    "    write_middleware('spb_datasets_eat_places.csv', dataset)\n",
    "    # write_middleware('spb_datasets_eat_places.xlsx', dataset)\n",
    "\n",
    "    print(f'\\nAverage Bill: {round(dataset[\"average_bill\"].mean(), 2)} (it has shrunk)')\n",
    "    print(f'\\nThere is not an institution whose have feature \"view_on_ostankino_tower\"')\n",
    "    # print(f'\\n{dataset.describe(include=\"all\")}')\n"
   ]
  },
  {
   "cell_type": "markdown",
   "id": "b3d8e53b-1d17-4a4a-ba5a-17eca6bde8de",
   "metadata": {},
   "source": [
    "Далее идет главвная функция, которая запускает все"
   ]
  },
  {
   "cell_type": "code",
   "execution_count": 7,
   "id": "7ead8cb5-89b8-4d22-a578-e15c92714e87",
   "metadata": {},
   "outputs": [
    {
     "name": "stdout",
     "output_type": "stream",
     "text": [
      "Loading E:\\PythonProjects\\projects\\mlYandex\\source\\csv\\datasets_eat_places.csv\n",
      "End of data loading\n",
      "\n",
      "Maximum cafes in Name: \"msk\" Count: \"11075\"\n",
      "\n",
      "Types of cafes in msk and spb:\n",
      "\n",
      "Бар безалкогольных напитков\t\tБулочная, пекарня\t\tБыстрое питание\n",
      "Кофе с собой\t\tКондитерская\t\tКальян-бар\n",
      "Бар, паб\t\tСпортбар\t\tСтоловая\n",
      "Суши-бар\t\tПиццерия\t\tРесторан\n",
      "Кофейня\t\tКафе\n",
      "\n",
      "Average Bill of Cafes:\n",
      "1099.0958408679928\n",
      "\n",
      "The share of \"Coffee with you” establishments has a takeaway coffee feature: 0.59 (in percents is 59.0%)\n",
      "\n",
      "Average Bill Difference between msk and spb: 94.73\n",
      "\n",
      "There is an institution whose rating is 0\n",
      "Feature occurs min times is Name: \"pets\" Occurs: \"13\"\n",
      "Feature occurs max times is Name: \"wi_fi\" Occurs: \"15248\"\n",
      "\n",
      "Writing to E:\\PythonProjects\\projects\\mlYandex\\source\\csv\\spb_datasets_eat_places.csv\n",
      "End of data writing\n",
      "\n",
      "Average Bill: 689.56 (it has shrunk)\n",
      "\n",
      "There is not an institution whose have feature \"view_on_ostankino_tower\"\n"
     ]
    }
   ],
   "source": [
    "def main():\n",
    "    # Getting arguments from command line\n",
    "    args = setup_basic_config()\n",
    "\n",
    "    # Getting values from table\n",
    "    dataset: DataFrame = load_middleware(args.input_from)\n",
    "\n",
    "    # Point Two\n",
    "    dataset = point_two(dataset)\n",
    "\n",
    "    # Point Three\n",
    "    point_three(dataset)\n",
    "\n",
    "    # Point Four\n",
    "    point_four(dataset)\n",
    "\n",
    "    # Point Five\n",
    "    point_five(dataset)\n",
    "\n",
    "\n",
    "if __name__ == '__main__':\n",
    "    main()"
   ]
  },
  {
   "cell_type": "markdown",
   "id": "f208e4a7-5df8-441c-8675-e9753557a276",
   "metadata": {},
   "source": [
    "Видео"
   ]
  }
 ],
 "metadata": {
  "kernelspec": {
   "display_name": "Python 3 (ipykernel)",
   "language": "python",
   "name": "python3"
  },
  "language_info": {
   "codemirror_mode": {
    "name": "ipython",
    "version": 3
   },
   "file_extension": ".py",
   "mimetype": "text/x-python",
   "name": "python",
   "nbconvert_exporter": "python",
   "pygments_lexer": "ipython3",
   "version": "3.10.0"
  }
 },
 "nbformat": 4,
 "nbformat_minor": 5
}
